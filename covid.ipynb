{
 "cells": [
  {
   "cell_type": "code",
   "execution_count": 3,
   "metadata": {},
   "outputs": [],
   "source": [
    "%matplotlib inline\n",
    "import numpy as np\n",
    "import pandas as pd\n",
    "import matplotlib.pyplot as plt\n",
    "import seaborn as sns\n",
    "import itertools as it\n",
    "\n",
    "sns.set_theme()"
   ]
  },
  {
   "cell_type": "markdown",
   "metadata": {},
   "source": [
    "# Generate Date"
   ]
  },
  {
   "cell_type": "code",
   "execution_count": 1,
   "metadata": {},
   "outputs": [
    {
     "name": "stdout",
     "output_type": "stream",
     "text": [
      "Finished data/K1FM5E-05DMk0.1! Used time: 0.039936065673828125s\n",
      "Finished data/K3FM5E-05DMk2.0! Used time: 0.12842917442321777s\n",
      "Finished data/K3FM5E-05DMk3.0! Used time: 0.11786580085754395s\n"
     ]
    }
   ],
   "source": [
    "# Use command line to run simulations.\n",
    "inputs = '--mut 5e-05 --poptype F --s 0.24  --runs 10 --sampling_method dirichlet --k 0.1'\n",
    "!python3 plateau_crossing.py $inputs --K 1\n",
    "!python3 plateau_crossing.py $inputs --k 2\n",
    "!python3 plateau_crossing.py $inputs --k 3"
   ]
  },
  {
   "cell_type": "markdown",
   "metadata": {},
   "source": [
    "# Plots"
   ]
  },
  {
   "cell_type": "markdown",
   "metadata": {},
   "source": [
    "## Trajetories"
   ]
  },
  {
   "cell_type": "markdown",
   "metadata": {},
   "source": [
    "This plotting method is the same as in the py file."
   ]
  },
  {
   "cell_type": "code",
   "execution_count": 24,
   "metadata": {},
   "outputs": [],
   "source": [
    "k = 2\n",
    "filename = \"FM5E-05DM\"\n",
    "path = 'data/K'\n",
    "lineage_num = pd.read_csv(path + str(k) + filename + \".out\", sep=\",\")"
   ]
  },
  {
   "cell_type": "code",
   "execution_count": 25,
   "metadata": {},
   "outputs": [
    {
     "data": {
      "text/plain": [
       "<AxesSubplot:xlabel='t'>"
      ]
     },
     "execution_count": 25,
     "metadata": {},
     "output_type": "execute_result"
    },
    {
     "data": {
      "image/png": "[encoded data removed]",
      "text/plain": [
       "<Figure size 432x288 with 1 Axes>"
      ]
     },
     "metadata": {},
     "output_type": "display_data"
    }
   ],
   "source": [
    "data=lineage_num[lineage_num.run == 8]\n",
    "data.plot(x=\"t\", y=\"num_lineage\")"
   ]
  },
  {
   "cell_type": "code",
   "execution_count": 19,
   "metadata": {},
   "outputs": [],
   "source": [
    "# Import data\n",
    "k = 3\n",
    "filename = \"FM5E-05DM\"\n",
    "path = 'data/R0.38K0.1/K'\n",
    "genotype_trajs = pd.read_csv(path + str(k) + filename + \".traj\", sep=\",\")\n",
    "lineage_trajs = pd.read_csv(path + str(k) + filename + \".lineage\", sep=\",\")\n",
    "voc_t = pd.read_csv(path + str(k) + filename + \".voc\", sep=\",\")\n",
    "voc_t = voc_t.replace(np.nan, -1, regex=True)\n",
    "# genotype names\n",
    "genotypes = np.asarray(list(it.product((-1, 1), repeat=k)))\n",
    "genotypes = genotypes[np.argsort(genotypes.sum(axis=1))]\n"
   ]
  },
  {
   "cell_type": "markdown",
   "metadata": {},
   "source": [
    "### Lineages Trajectories"
   ]
  },
  {
   "cell_type": "code",
   "execution_count": 147,
   "metadata": {},
   "outputs": [],
   "source": [
    "def traj_plot(run_index, plot_type):\n",
    "    '''\n",
    "    Plot trajectories of all genotypes and lineages.\n",
    "    '''\n",
    "    traj_run = genotype_trajs[genotype_trajs.run == run_index]\n",
    "    # plot trajectories of genotypes\n",
    "    fig = plt.figure()\n",
    "    ax = fig.add_subplot(111)\n",
    "    t = traj_run.t\n",
    "    for index, col in traj_run.iloc[:,2:].iteritems():\n",
    "        ax.plot(t, col)\n",
    "\n",
    "        \n",
    "    lineages_to_plot = lineage_trajs[(lineage_trajs.voc == True) & (lineage_trajs.run == run_index)]\n",
    "    for index, row in lineages_to_plot.iloc[:,2:].iterrows():\n",
    "        t0 = row[0]\n",
    "        lineage = row[1:]\n",
    "        t = np.arange(len(lineage)) + t0\n",
    "        ax.plot(t, lineage)\n",
    "\n",
    "    if plot_type != 'genotype':\n",
    "        lineage_plot(ax, run_index, plot_type)\n",
    "\n",
    "    # legend for genotypes (without full mutant)\n",
    "    legend = []\n",
    "    for genotype in genotypes:\n",
    "        genotype = np.where(genotype == -1, 0, genotype)\n",
    "        legend.append(\"\".join(str(i) for i in genotype))\n",
    "    ax.legend(legend, loc=0)\n",
    "\n",
    "    plt.yscale(\"log\", base=10)\n",
    "    ymax = traj_run.max().max()\n",
    "    plt.ylim([1, 2.5*ymax])\n",
    "    plt.yscale(\"log\", base=10)\n",
    "    plt.xlabel(\"T\")\n",
    "    plt.ylabel(\"Cases\")\n",
    "    plt.show()\n",
    "\n",
    "def lineage_plot(ax, run_index, plot_type):\n",
    "    '''\n",
    "    Plot trajectories of lineages or vocs.\n",
    "    '''\n",
    "    # select row to plot\n",
    "    if plot_type == 'voc':\n",
    "        lineages_to_plot = lineage_trajs[(lineage_trajs.voc == True) & (\n",
    "            lineage_trajs.run == run_index)]\n",
    "    if plot_type == 'lineage':\n",
    "        lineages_to_plot = lineage_trajs[lineage_trajs.run == run_index]\n",
    "    # quit when no lineage to plot\n",
    "    if lineages_to_plot.shape[0] == 0:\n",
    "        return\n",
    "    # plot each row\n",
    "    for index, row in lineages_to_plot.iloc[:, 2:].iterrows():\n",
    "        t0 = row[0]\n",
    "        lineage = row[1:]\n",
    "        t = np.arange(len(lineage)) + t0\n",
    "        ax.plot(t, lineage)\n",
    "    # voc time\n",
    "    if voc_t.shape[0] == 0:\n",
    "        return\n",
    "    voc_text = voc_t.to_numpy()[run_index, 1:]\n",
    "    voc_text = voc_text[voc_text != -1]\n",
    "    voc_text = \"VOC time: \" + \",\".join(str(int(i)) for i in voc_text)\n",
    "    ymax = genotype_trajs.max()[2]\n",
    "    plt.text(0, 1.1*ymax, voc_text, fontsize='large')\n"
   ]
  },
  {
   "cell_type": "code",
   "execution_count": 156,
   "metadata": {},
   "outputs": [
    {
     "data": {
      "image/png": "[encoded data removed]",
      "text/plain": [
       "<Figure size 432x288 with 1 Axes>"
      ]
     },
     "metadata": {},
     "output_type": "display_data"
    }
   ],
   "source": [
    "# plot_type can be 'lineage', 'voc' or 'genotypes'\n",
    "plot_type = 'lineage' \n",
    "# index of runs\n",
    "run_index = 15\n",
    "\n",
    "traj_plot(run_index, plot_type)\n",
    "\n",
    "# with pd.option_context('display.max_rows', None, 'display.max_columns', None):  # more options can be specified also\n",
    "#     print(dataK3.sort_values(by = ['deltaT']))"
   ]
  },
  {
   "cell_type": "markdown",
   "metadata": {},
   "source": [
    "## T- $\\Delta$ T"
   ]
  },
  {
   "cell_type": "code",
   "execution_count": 2,
   "metadata": {},
   "outputs": [
    {
     "ename": "NameError",
     "evalue": "name 'pd' is not defined",
     "output_type": "error",
     "traceback": [
      "\u001b[0;31m---------------------------------------------------------------------------\u001b[0m",
      "\u001b[0;31mNameError\u001b[0m                                 Traceback (most recent call last)",
      "\u001b[0;32m<ipython-input-2-80c3ad93f0bb>\u001b[0m in \u001b[0;36m<module>\u001b[0;34m\u001b[0m\n\u001b[1;32m      7\u001b[0m \u001b[0;32mfor\u001b[0m \u001b[0mi\u001b[0m \u001b[0;32min\u001b[0m \u001b[0mrange\u001b[0m\u001b[0;34m(\u001b[0m\u001b[0;36m1\u001b[0m\u001b[0;34m,\u001b[0m\u001b[0;36m4\u001b[0m\u001b[0;34m)\u001b[0m\u001b[0;34m:\u001b[0m\u001b[0;34m\u001b[0m\u001b[0;34m\u001b[0m\u001b[0m\n\u001b[1;32m      8\u001b[0m     \u001b[0;31m# read file; first 5 vocs\u001b[0m\u001b[0;34m\u001b[0m\u001b[0;34m\u001b[0m\u001b[0;34m\u001b[0m\u001b[0m\n\u001b[0;32m----> 9\u001b[0;31m     \u001b[0mtemp\u001b[0m \u001b[0;34m=\u001b[0m \u001b[0mpd\u001b[0m\u001b[0;34m.\u001b[0m\u001b[0mread_csv\u001b[0m\u001b[0;34m(\u001b[0m\u001b[0mpath\u001b[0m \u001b[0;34m+\u001b[0m \u001b[0mstr\u001b[0m\u001b[0;34m(\u001b[0m\u001b[0mi\u001b[0m\u001b[0;34m)\u001b[0m \u001b[0;34m+\u001b[0m \u001b[0mfilename\u001b[0m \u001b[0;34m+\u001b[0m \u001b[0;34m\".voc\"\u001b[0m\u001b[0;34m,\u001b[0m \u001b[0msep\u001b[0m\u001b[0;34m=\u001b[0m\u001b[0;34m\",\"\u001b[0m\u001b[0;34m,\u001b[0m \u001b[0mengine\u001b[0m\u001b[0;34m=\u001b[0m\u001b[0;34m'python'\u001b[0m\u001b[0;34m)\u001b[0m\u001b[0;34m.\u001b[0m\u001b[0miloc\u001b[0m\u001b[0;34m[\u001b[0m\u001b[0;34m:\u001b[0m\u001b[0;34m,\u001b[0m\u001b[0;34m:\u001b[0m\u001b[0;36m5\u001b[0m\u001b[0;34m]\u001b[0m\u001b[0;34m\u001b[0m\u001b[0;34m\u001b[0m\u001b[0m\n\u001b[0m\u001b[1;32m     10\u001b[0m     \u001b[0;31m# add k col\u001b[0m\u001b[0;34m\u001b[0m\u001b[0;34m\u001b[0m\u001b[0;34m\u001b[0m\u001b[0m\n\u001b[1;32m     11\u001b[0m     \u001b[0mtemp\u001b[0m\u001b[0;34m[\u001b[0m\u001b[0;34m'K'\u001b[0m\u001b[0;34m]\u001b[0m \u001b[0;34m=\u001b[0m \u001b[0mi\u001b[0m\u001b[0;34m\u001b[0m\u001b[0;34m\u001b[0m\u001b[0m\n",
      "\u001b[0;31mNameError\u001b[0m: name 'pd' is not defined"
     ]
    }
   ],
   "source": [
    "filename = 'FM5E-05DMk0.1'\n",
    "path = 'data/K'\n",
    "# delta T between l2 and l1\n",
    "l2 = 2\n",
    "l1 = 1\n",
    "\n",
    "for i in range(1,4):\n",
    "    # read file; first 5 vocs\n",
    "    temp = pd.read_csv(path + str(i) + filename + \".voc\", sep=\",\", engine='python').iloc[:,:5]\n",
    "    # add k col\n",
    "    temp['K'] = i\n",
    "    # add delta whics is l2 - l1\n",
    "    temp['deltaT'] = temp['t' + str(l2)] - temp['t' + str(l1)]\n",
    "    locals()['dataK%s' % i] = temp\n",
    "\n",
    "TdeltaT = pd.concat([dataK1,dataK2,dataK3], ignore_index=True)\n",
    "oberserTdeltaT = [50,10]"
   ]
  },
  {
   "cell_type": "code",
   "execution_count": 36,
   "metadata": {},
   "outputs": [
    {
     "data": {
      "text/html": [
       "<div>\n",
       "<style scoped>\n",
       "    .dataframe tbody tr th:only-of-type {\n",
       "        vertical-align: middle;\n",
       "    }\n",
       "\n",
       "    .dataframe tbody tr th {\n",
       "        vertical-align: top;\n",
       "    }\n",
       "\n",
       "    .dataframe thead th {\n",
       "        text-align: right;\n",
       "    }\n",
       "</style>\n",
       "<table border=\"1\" class=\"dataframe\">\n",
       "  <thead>\n",
       "    <tr style=\"text-align: right;\">\n",
       "      <th></th>\n",
       "      <th>run</th>\n",
       "      <th>t1</th>\n",
       "      <th>t2</th>\n",
       "      <th>t3</th>\n",
       "      <th>t4</th>\n",
       "      <th>K</th>\n",
       "      <th>deltaT</th>\n",
       "    </tr>\n",
       "  </thead>\n",
       "  <tbody>\n",
       "    <tr>\n",
       "      <th>count</th>\n",
       "      <td>1000.000000</td>\n",
       "      <td>1000.000000</td>\n",
       "      <td>990.000000</td>\n",
       "      <td>982.000000</td>\n",
       "      <td>981.000000</td>\n",
       "      <td>1000.0</td>\n",
       "      <td>990.000000</td>\n",
       "    </tr>\n",
       "    <tr>\n",
       "      <th>mean</th>\n",
       "      <td>499.500000</td>\n",
       "      <td>19.930000</td>\n",
       "      <td>22.618182</td>\n",
       "      <td>23.079430</td>\n",
       "      <td>23.134557</td>\n",
       "      <td>1.0</td>\n",
       "      <td>2.642424</td>\n",
       "    </tr>\n",
       "    <tr>\n",
       "      <th>std</th>\n",
       "      <td>288.819436</td>\n",
       "      <td>11.414789</td>\n",
       "      <td>12.411860</td>\n",
       "      <td>12.578715</td>\n",
       "      <td>12.566080</td>\n",
       "      <td>0.0</td>\n",
       "      <td>5.653226</td>\n",
       "    </tr>\n",
       "    <tr>\n",
       "      <th>min</th>\n",
       "      <td>0.000000</td>\n",
       "      <td>1.000000</td>\n",
       "      <td>1.000000</td>\n",
       "      <td>1.000000</td>\n",
       "      <td>1.000000</td>\n",
       "      <td>1.0</td>\n",
       "      <td>0.000000</td>\n",
       "    </tr>\n",
       "    <tr>\n",
       "      <th>25%</th>\n",
       "      <td>249.750000</td>\n",
       "      <td>13.000000</td>\n",
       "      <td>14.000000</td>\n",
       "      <td>14.000000</td>\n",
       "      <td>14.000000</td>\n",
       "      <td>1.0</td>\n",
       "      <td>0.000000</td>\n",
       "    </tr>\n",
       "    <tr>\n",
       "      <th>50%</th>\n",
       "      <td>499.500000</td>\n",
       "      <td>17.000000</td>\n",
       "      <td>19.000000</td>\n",
       "      <td>19.000000</td>\n",
       "      <td>19.000000</td>\n",
       "      <td>1.0</td>\n",
       "      <td>0.000000</td>\n",
       "    </tr>\n",
       "    <tr>\n",
       "      <th>75%</th>\n",
       "      <td>749.250000</td>\n",
       "      <td>25.000000</td>\n",
       "      <td>28.000000</td>\n",
       "      <td>29.000000</td>\n",
       "      <td>29.000000</td>\n",
       "      <td>1.0</td>\n",
       "      <td>2.000000</td>\n",
       "    </tr>\n",
       "    <tr>\n",
       "      <th>max</th>\n",
       "      <td>999.000000</td>\n",
       "      <td>82.000000</td>\n",
       "      <td>82.000000</td>\n",
       "      <td>82.000000</td>\n",
       "      <td>82.000000</td>\n",
       "      <td>1.0</td>\n",
       "      <td>34.000000</td>\n",
       "    </tr>\n",
       "  </tbody>\n",
       "</table>\n",
       "</div>"
      ],
      "text/plain": [
       "               run           t1          t2          t3          t4       K  \\\n",
       "count  1000.000000  1000.000000  990.000000  982.000000  981.000000  1000.0   \n",
       "mean    499.500000    19.930000   22.618182   23.079430   23.134557     1.0   \n",
       "std     288.819436    11.414789   12.411860   12.578715   12.566080     0.0   \n",
       "min       0.000000     1.000000    1.000000    1.000000    1.000000     1.0   \n",
       "25%     249.750000    13.000000   14.000000   14.000000   14.000000     1.0   \n",
       "50%     499.500000    17.000000   19.000000   19.000000   19.000000     1.0   \n",
       "75%     749.250000    25.000000   28.000000   29.000000   29.000000     1.0   \n",
       "max     999.000000    82.000000   82.000000   82.000000   82.000000     1.0   \n",
       "\n",
       "           deltaT  \n",
       "count  990.000000  \n",
       "mean     2.642424  \n",
       "std      5.653226  \n",
       "min      0.000000  \n",
       "25%      0.000000  \n",
       "50%      0.000000  \n",
       "75%      2.000000  \n",
       "max     34.000000  "
      ]
     },
     "execution_count": 36,
     "metadata": {},
     "output_type": "execute_result"
    }
   ],
   "source": [
    "dataK1.describe()"
   ]
  },
  {
   "cell_type": "code",
   "execution_count": 30,
   "metadata": {},
   "outputs": [
    {
     "data": {
      "image/png": "[encoded data removed]",
      "text/plain": [
       "<Figure size 432x288 with 1 Axes>"
      ]
     },
     "metadata": {},
     "output_type": "display_data"
    }
   ],
   "source": [
    "opacity = 400\n",
    "\n",
    "for i in range(1,4):\n",
    "    kData = TdeltaT[TdeltaT.K == i]\n",
    "    # alpha = opacity/len(kData.index)\n",
    "    if i == 1:\n",
    "        graph = sns.scatterplot(data=kData, x=\"t1\", y=\"deltaT\")\n",
    "    else:\n",
    "        sns.scatterplot(data=kData, x=\"t1\", y=\"deltaT\", ax = graph)\n",
    "\n",
    "plt.legend([\"K=1\", \"K=2\", \"K=3\"], loc=0)\n",
    "plt.plot([oberserTdeltaT[0],oberserTdeltaT[0]], [0,2*max(TdeltaT.t1)], 'r', alpha = 0.5) # Vertical\n",
    "plt.plot([0,2*max(TdeltaT.t1)], [oberserTdeltaT[1],oberserTdeltaT[1]], 'r', alpha = 0.5) # Horizontal\n",
    "plt.xlabel('Generations of  1st voc')\n",
    "plt.ylabel('$\\Delta$T between vocs')\n",
    "plt.xlim(-1,1.1*max(TdeltaT.t1));\n",
    "plt.ylim(-1,1.1*max(TdeltaT.deltaT));"
   ]
  },
  {
   "cell_type": "code",
   "execution_count": null,
   "metadata": {},
   "outputs": [],
   "source": []
  }
 ],
 "metadata": {
  "interpreter": {
   "hash": "85646b5ca7aea3042c08b21662d67a0c1e7ee890303c1809edbf5f5840ee92e9"
  },
  "kernelspec": {
   "display_name": "Python 3 (ipykernel)",
   "language": "python",
   "name": "python3"
  },
  "language_info": {
   "codemirror_mode": {
    "name": "ipython",
    "version": 3
   },
   "file_extension": ".py",
   "mimetype": "text/x-python",
   "name": "python",
   "nbconvert_exporter": "python",
   "pygments_lexer": "ipython3",
   "version": "3.9.4"
  }
 },
 "nbformat": 4,
 "nbformat_minor": 4
}
